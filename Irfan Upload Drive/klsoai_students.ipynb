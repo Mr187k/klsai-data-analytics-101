{
 "cells": [
  {
   "cell_type": "markdown",
   "metadata": {},
   "source": [
    "# Kuala Lumpur School of AI\n",
    "\n",
    "## Introduction to Data Analysis"
   ]
  },
  {
   "cell_type": "markdown",
   "metadata": {},
   "source": [
    "### Outline \n",
    "\n",
    "1) Load Data Set\n",
    "\n",
    "2) Data Cleaning and Exploration\n",
    "\n",
    "3) Data Analysis\n",
    "   * Q1: How does the population growth defer in the US and in China?\n",
    "   * Q2: How does the GDP Per Capita defer in the US and China?\n",
    "   * Q3: What is the relationship between GDP Per Capita and Life Expectancy?\n",
    "   \n",
    "4) Real World Case Study (If we have time)\n",
    "   * Q: Whats the richest country in the world on a per-person basis?"
   ]
  },
  {
   "cell_type": "markdown",
   "metadata": {},
   "source": [
    "### Step 1: Loading Our Data Set\n",
    "\n",
    "Before loading our data set, we must identify where the *path* of our data set is in our PC.\n",
    "\n",
    "We can check this by using the linux command '!pwd'.\n",
    "\n",
    "!pwd"
   ]
  },
  {
   "cell_type": "markdown",
   "metadata": {},
   "source": [
    "Let's create a **variable** called *file_path*:"
   ]
  },
  {
   "cell_type": "code",
   "execution_count": null,
   "metadata": {},
   "outputs": [],
   "source": []
  },
  {
   "cell_type": "markdown",
   "metadata": {},
   "source": [
    "Now, let's import the **pandas** library (a pythonic library used for data manipulation and analysis) to help us load our data set."
   ]
  },
  {
   "cell_type": "code",
   "execution_count": null,
   "metadata": {},
   "outputs": [],
   "source": []
  },
  {
   "cell_type": "markdown",
   "metadata": {},
   "source": [
    "Once imported, we will use pandas (here abbreviated as *pd*) to load our .csv file."
   ]
  },
  {
   "cell_type": "code",
   "execution_count": null,
   "metadata": {},
   "outputs": [],
   "source": []
  },
  {
   "cell_type": "code",
   "execution_count": null,
   "metadata": {},
   "outputs": [],
   "source": []
  },
  {
   "cell_type": "markdown",
   "metadata": {},
   "source": [
    "**Congratulations! You have loaded your first data set with pandas!**"
   ]
  },
  {
   "cell_type": "markdown",
   "metadata": {},
   "source": [
    "### Step 2: Data Cleaning and Exploration"
   ]
  },
  {
   "cell_type": "markdown",
   "metadata": {},
   "source": [
    "   * Data cleaning is where you will spend 70% of your time as a data analyst/scientist. \n",
    "   * The objective of this morning session to get a **feel** for analytics, so we will use a clean data set\n",
    "   * Later in the evening session, you will experience how one would need to *clean* their data before any exploration\n",
    "   \n",
    "   "
   ]
  },
  {
   "cell_type": "markdown",
   "metadata": {},
   "source": [
    "#### Data types"
   ]
  },
  {
   "cell_type": "code",
   "execution_count": null,
   "metadata": {},
   "outputs": [],
   "source": []
  },
  {
   "cell_type": "markdown",
   "metadata": {},
   "source": [
    "* Objects = strings ie 'Malaysia'\n",
    "* Int64 = Integers ie 2019\n",
    "* Float64 = Float ie 25.1"
   ]
  },
  {
   "cell_type": "markdown",
   "metadata": {},
   "source": [
    "* More info on python, pandas and numpy data types:\n",
    "http://pbpython.com/pandas_dtypes.html\n",
    "\n",
    "* Here you can also see how to convert from one data type to another.\n",
    "* This is usually part of the *data cleaning* process. eg. *\"1984\"* can be stored as a **string**, you want it as an **integer**. "
   ]
  },
  {
   "cell_type": "markdown",
   "metadata": {},
   "source": [
    "#### Dimensions of the Pandas Data Frame"
   ]
  },
  {
   "cell_type": "code",
   "execution_count": null,
   "metadata": {},
   "outputs": [],
   "source": []
  },
  {
   "cell_type": "markdown",
   "metadata": {},
   "source": [
    "This means that the Pandas Data Frame has 1704 rows × 6 columns"
   ]
  },
  {
   "cell_type": "markdown",
   "metadata": {},
   "source": [
    "#### Missing values?"
   ]
  },
  {
   "cell_type": "code",
   "execution_count": null,
   "metadata": {},
   "outputs": [],
   "source": []
  },
  {
   "cell_type": "markdown",
   "metadata": {},
   "source": [
    "We have no null values! Lets move on. \n",
    "\n",
    "If you are curious to know what we should do with null values, we will explore this in the second session."
   ]
  },
  {
   "cell_type": "markdown",
   "metadata": {},
   "source": [
    "#### Slicing data"
   ]
  },
  {
   "cell_type": "markdown",
   "metadata": {},
   "source": [
    "Now let's explore on how to access individual columns and rows within our data set\n",
    "\n",
    "We know that our data set has 1704 rows and 6 columns.\n",
    "\n",
    "How do I access row 1, column 2? \n",
    "\n",
    "We use the **method** *.iloc* which stands for *Index Location*"
   ]
  },
  {
   "cell_type": "code",
   "execution_count": null,
   "metadata": {},
   "outputs": [],
   "source": []
  },
  {
   "cell_type": "code",
   "execution_count": null,
   "metadata": {},
   "outputs": [],
   "source": [
    "#Here we are accessing row 0 and column 0"
   ]
  },
  {
   "cell_type": "code",
   "execution_count": null,
   "metadata": {},
   "outputs": [],
   "source": [
    "#Rows 0 to 3 and column 0"
   ]
  },
  {
   "cell_type": "code",
   "execution_count": null,
   "metadata": {},
   "outputs": [],
   "source": [
    "#Rows 0 to 3 and all columns "
   ]
  },
  {
   "cell_type": "code",
   "execution_count": null,
   "metadata": {},
   "outputs": [],
   "source": [
    "#Rows 3 to 7 and columns 2 to 3 "
   ]
  },
  {
   "cell_type": "markdown",
   "metadata": {},
   "source": [
    "**Pandas Series and Data Frames**"
   ]
  },
  {
   "cell_type": "code",
   "execution_count": null,
   "metadata": {},
   "outputs": [],
   "source": [
    "# Several Rows of One Column"
   ]
  },
  {
   "cell_type": "code",
   "execution_count": null,
   "metadata": {},
   "outputs": [],
   "source": [
    "# Several Rows and Several Columns "
   ]
  },
  {
   "cell_type": "code",
   "execution_count": null,
   "metadata": {},
   "outputs": [],
   "source": [
    "# One Row and One Column"
   ]
  },
  {
   "cell_type": "markdown",
   "metadata": {},
   "source": [
    "### Step 3: Data Analysis"
   ]
  },
  {
   "cell_type": "markdown",
   "metadata": {},
   "source": [
    "The two main methods we are going to use today is frequency statistics and visualisations"
   ]
  },
  {
   "cell_type": "markdown",
   "metadata": {},
   "source": [
    "* Let's analyse the data for Malaysia\n",
    "\n",
    "First we need to extract the Malaysian data from the data set"
   ]
  },
  {
   "cell_type": "code",
   "execution_count": null,
   "metadata": {},
   "outputs": [],
   "source": []
  },
  {
   "cell_type": "markdown",
   "metadata": {},
   "source": [
    "Now, suppose we want to know, whats the average life expenctancy, population and gdpPerCapita in Malaysia?"
   ]
  },
  {
   "cell_type": "code",
   "execution_count": null,
   "metadata": {},
   "outputs": [],
   "source": []
  },
  {
   "cell_type": "markdown",
   "metadata": {},
   "source": [
    "Statistics are very useful to describe data but can be hard to understand without visualization "
   ]
  },
  {
   "cell_type": "markdown",
   "metadata": {},
   "source": [
    "**Lets do some basic visualisation**"
   ]
  },
  {
   "cell_type": "markdown",
   "metadata": {},
   "source": [
    "First Import **matplotlib's pyplot** (abbriviated as *plt*) into our Jupyter Notebook"
   ]
  },
  {
   "cell_type": "code",
   "execution_count": null,
   "metadata": {},
   "outputs": [],
   "source": []
  },
  {
   "cell_type": "markdown",
   "metadata": {},
   "source": [
    "**Simple line plot**"
   ]
  },
  {
   "cell_type": "code",
   "execution_count": null,
   "metadata": {},
   "outputs": [],
   "source": [
    "# Create a list of integers\n",
    "x = [1,2,3]\n",
    "y = [1,2,3]\n",
    "z = [4,5,6] #add a 3rd variable\n",
    "\n",
    "#Plot \n",
    "plt.plot(x,y)\n",
    "#plt.plot(x,z) #plot both lines\n",
    "\n",
    "#Add Title\n",
    "plt.title('Title of our diagram')\n",
    "\n",
    "#Add labels\n",
    "plt.xlabel('x')\n",
    "plt.ylabel('y')\n",
    "#plt.ylabel('y and z') #change y label to include y and z\n",
    "\n",
    "#Add legends\n",
    "plt.legend([\"this is y\"])\n",
    "#plt.legend([\"this is y\",\"this is z\"])  #change legend to include both lines\n",
    "\n",
    "#Show diagram\n",
    "plt.show()"
   ]
  },
  {
   "cell_type": "markdown",
   "metadata": {},
   "source": [
    "** Let's do some analysis!**"
   ]
  },
  {
   "cell_type": "markdown",
   "metadata": {},
   "source": [
    "**Q1: How does the population growth defer in the US and in China?**"
   ]
  },
  {
   "cell_type": "markdown",
   "metadata": {},
   "source": [
    "Step 1. Extract data from the US and China"
   ]
  },
  {
   "cell_type": "code",
   "execution_count": null,
   "metadata": {},
   "outputs": [],
   "source": []
  },
  {
   "cell_type": "markdown",
   "metadata": {},
   "source": [
    "Step 2. Plot the population data over time"
   ]
  },
  {
   "cell_type": "code",
   "execution_count": null,
   "metadata": {},
   "outputs": [],
   "source": [
    "plt.figure(figsize=(16,8))\n",
    "\n",
    "# Add Here\n",
    "# Add Here\n",
    "\n",
    "plt.title('Population growth in US and China')\n",
    "plt.legend(['United States','China'])\n",
    "plt.xlabel(\"year\")\n",
    "plt.ylabel(\"population\")\n",
    "\n",
    "plt.show()"
   ]
  },
  {
   "cell_type": "markdown",
   "metadata": {},
   "source": [
    "**Conclusive Insights**\n",
    "\n",
    "* US population grew from 150 million to 300 million from 57 to 07 (50 yrs)\n",
    "* China population grew from 550 million to 1.3 billion in 50 yrs"
   ]
  },
  {
   "cell_type": "markdown",
   "metadata": {},
   "source": [
    "This is great but, how do we get more insight from this data?\n",
    "* What is the relative growth? Is it higher in the US or China?"
   ]
  },
  {
   "cell_type": "code",
   "execution_count": null,
   "metadata": {},
   "outputs": [],
   "source": [
    "#US Population \n",
    "\n",
    "us[['year','population']] #Data frame to Show the year and population in the US\n",
    "#us.population #Series of the population in the US"
   ]
  },
  {
   "cell_type": "markdown",
   "metadata": {},
   "source": [
    "Lets devide the yearly population by the first year that we have"
   ]
  },
  {
   "cell_type": "markdown",
   "metadata": {},
   "source": [
    "What is the first population? \n",
    "* It is the population in 1950. \n",
    "* How do we access this data?"
   ]
  },
  {
   "cell_type": "code",
   "execution_count": null,
   "metadata": {},
   "outputs": [],
   "source": []
  },
  {
   "cell_type": "code",
   "execution_count": null,
   "metadata": {},
   "outputs": [],
   "source": [
    "#This shows is the population growth each year when compared to the year 1950. "
   ]
  },
  {
   "cell_type": "markdown",
   "metadata": {},
   "source": [
    "This shows is the population growth each year when compared to the year 1950. "
   ]
  },
  {
   "cell_type": "markdown",
   "metadata": {},
   "source": [
    "From here we can see that in *50 years*, the population in the US grew **91%**"
   ]
  },
  {
   "cell_type": "markdown",
   "metadata": {},
   "source": [
    "Impressive! But what about China?"
   ]
  },
  {
   "cell_type": "code",
   "execution_count": null,
   "metadata": {},
   "outputs": [],
   "source": [
    "#This shows is the population growth each year when compared to the year 1950. "
   ]
  },
  {
   "cell_type": "markdown",
   "metadata": {},
   "source": [
    "The population in China grew **137%** !\n"
   ]
  },
  {
   "cell_type": "markdown",
   "metadata": {},
   "source": [
    "**Lets visualise this result**"
   ]
  },
  {
   "cell_type": "code",
   "execution_count": null,
   "metadata": {},
   "outputs": [],
   "source": [
    "plt.figure(figsize=(16,8))\n",
    "\n",
    "# Add Here\n",
    "# Add Here\n",
    "\n",
    "plt.title('Relative population growth by percentage in the US and China')\n",
    "plt.legend(['United States','China'])\n",
    "\n",
    "plt.xlabel(\"year\")\n",
    "plt.ylabel(\"population growth \")\n",
    "plt.show()"
   ]
  },
  {
   "cell_type": "markdown",
   "metadata": {},
   "source": [
    "**Conclusive Insights**\n",
    "* The population in the US grew **91% form 150million to 300million in 50 years** \n",
    "* The population in China grew **137% form 550million to 1.3 billion in 50 years**\n",
    "\n",
    "We now know the absolute growth amount and the growth rates of each country, allowing us to compare both countries.\n",
    "\n",
    "We can theoretically do this for all countries by writting a python function and showing our results in a table or on a visualization, I will leave that to your imagination."
   ]
  },
  {
   "cell_type": "markdown",
   "metadata": {},
   "source": [
    "**Q2: How does the GDP Per Capita defer in the US and China?**"
   ]
  },
  {
   "cell_type": "markdown",
   "metadata": {},
   "source": [
    "Here we have two of the worlds strongest economies. But when did China's Economy start to boost? Are they doing better than the US?"
   ]
  },
  {
   "cell_type": "markdown",
   "metadata": {},
   "source": [
    "What is GDP Per Capita? "
   ]
  },
  {
   "cell_type": "markdown",
   "metadata": {},
   "source": [
    "* GDP Per Capita is the Annual GDP of a country devided by its population.\n",
    "\n",
    "* ie. GDP Per Capita = Annual GDP / Population\n",
    "\n",
    "https://www.investopedia.com/terms/g/gdp.asp"
   ]
  },
  {
   "cell_type": "markdown",
   "metadata": {},
   "source": [
    "Let's do the same analysis for the US and China as we did before"
   ]
  },
  {
   "cell_type": "markdown",
   "metadata": {},
   "source": [
    "**1. Absolute Growth**"
   ]
  },
  {
   "cell_type": "code",
   "execution_count": null,
   "metadata": {},
   "outputs": [],
   "source": [
    "plt.figure(figsize=(16,8))\n",
    "\n",
    "# Add Here\n",
    "# Add Here\n",
    "\n",
    "plt.title('GDP Per Capita Growth in US and China')\n",
    "plt.legend(['United States','China'])\n",
    "plt.xlabel(\"year\")\n",
    "plt.ylabel(\"GDP per Capita ($)\")\n",
    "\n",
    "plt.show()"
   ]
  },
  {
   "cell_type": "markdown",
   "metadata": {},
   "source": [
    "**2. Relative Growth**"
   ]
  },
  {
   "cell_type": "code",
   "execution_count": null,
   "metadata": {},
   "outputs": [],
   "source": [
    "# Add here\n",
    "# Add here\n",
    "\n",
    "plt.figure(figsize=(16,8))\n",
    "plt.plot(us.year, us_growth)\n",
    "plt.plot(china.year, china_growth)\n",
    "plt.title(\"GDP Per Capita Relative Growth in U.S and China\")\n",
    "plt.legend([\"US\",\"China\"])\n",
    "plt.xlabel(\"Year\")\n",
    "plt.ylabel(\"GDP per Capita ($)\")\n",
    "plt.show()\n"
   ]
  },
  {
   "cell_type": "markdown",
   "metadata": {},
   "source": [
    "**Conclusive Insights**\n",
    "\n",
    "* The GDP Per Capita in the US grew **200 %** form **14,000 USD** to **43,000 USD** in *50 years* \n",
    "* The GDP Per Capita in China grew **1140 %** form **400 USD** to **5000 USD** in *50 years*"
   ]
  },
  {
   "cell_type": "markdown",
   "metadata": {},
   "source": [
    "\n",
    "* Remember GDP per capita is the GDP of a country / its population\n",
    "* The US has 300 million people and China has 1.3 billion people\n",
    "* I will leave it to you to explore the difference in GDP of the two countries\n",
    "* More data and info on the economies of USA and China in this link: https://www.visualcapitalist.com/china-vs-united-states-a-tale-of-two-economies/\n"
   ]
  },
  {
   "cell_type": "markdown",
   "metadata": {},
   "source": [
    "**Q3: What is the relationship between GDP Per Capita and Life Expectancy?**"
   ]
  },
  {
   "cell_type": "code",
   "execution_count": null,
   "metadata": {},
   "outputs": [],
   "source": [
    "data_07 = data[data.year == 2007]\n",
    "plt.figure(figsize=(16,8))\n",
    "plt.scatter(data_07.gdpPerCapita, data_07.lifeExpectancy, 5)\n",
    "plt.title('GDP Per Capita and Life Expectancy in 2007')\n",
    "plt.xlabel(\"GDP Per Capita ($)\")\n",
    "plt.ylabel('Life Expectancy (Age)')\n",
    "plt.show()"
   ]
  },
  {
   "cell_type": "markdown",
   "metadata": {},
   "source": [
    "* The Life Expectency increases dramatically in the lower range of GDP increase, however, after $10,000, a large increase in GDP brings a slow increase in life expectancy \n",
    "\n",
    "* The relationship between the variables are non linear.\n"
   ]
  },
  {
   "cell_type": "markdown",
   "metadata": {},
   "source": [
    "Let's check the corelation between GDP Per Cap and Life Expectancy"
   ]
  },
  {
   "cell_type": "code",
   "execution_count": null,
   "metadata": {},
   "outputs": [],
   "source": [
    "data_07.gdpPerCapita.corr(data_07.lifeExpectancy) "
   ]
  },
  {
   "cell_type": "markdown",
   "metadata": {},
   "source": [
    "The corelation is neither good nor bad. "
   ]
  },
  {
   "cell_type": "markdown",
   "metadata": {},
   "source": [
    "How can we change this non-linear relationship to become linear?\n",
    "\n",
    "* Log scales?"
   ]
  },
  {
   "cell_type": "code",
   "execution_count": null,
   "metadata": {},
   "outputs": [],
   "source": [
    "import numpy as np\n",
    "\n",
    "np.log10([1, 10, 100, 1000]) #Log scale, 10^1 = 10, 10^2 = 100, 10^3 = 1000"
   ]
  },
  {
   "cell_type": "markdown",
   "metadata": {},
   "source": [
    "Let's plot the data using a log scale for the GDP Per Cap and check the corelation"
   ]
  },
  {
   "cell_type": "code",
   "execution_count": null,
   "metadata": {},
   "outputs": [],
   "source": [
    "plt.figure(figsize=(16,8))\n",
    "plt.scatter(np.log10(data_07.gdpPerCapita), data_07.lifeExpectancy)\n",
    "plt.title('GDP Per Capita and Life Expectancy in 2007')\n",
    "plt.xlabel(\"GDP Per Capita ($)\")\n",
    "plt.ylabel('Life Expectancy (Age)')\n",
    "plt.show()"
   ]
  },
  {
   "cell_type": "code",
   "execution_count": null,
   "metadata": {},
   "outputs": [],
   "source": [
    "np.log10(data_07.gdpPerCapita).corr(data_07.lifeExpectancy) #When using the log scale"
   ]
  },
  {
   "cell_type": "code",
   "execution_count": null,
   "metadata": {},
   "outputs": [],
   "source": [
    "years_sorted = sorted(set(data.year)) #set of years\n",
    "\n",
    "for given_year in years_sorted:  #iterate through the years\n",
    "    data_year = data[data.year == given_year] #choose data of given year\n",
    "    plt.figure(figsize=(16,8)) #figure size\n",
    "    #plt.scatter(data_year.gdpPerCapita, data_year.lifeExpectancy, 5) #plot absolute relationship of gdp n LE\n",
    "    plt.scatter(np.log10(data_year.gdpPerCapita), data_year.lifeExpectancy, 5) #plot on log scale for gdp where 3 = 10^3 = 1000\n",
    "    plt.title(given_year)\n",
    "    #plt.xlim(0,60000)\n",
    "    plt.xlim(2,5)\n",
    "    plt.ylim(25, 85)   \n",
    "    plt.xlabel('GDP Per Capita')\n",
    "    plt.ylabel('Life Expectancy')\n",
    "    #plt.show()\n",
    "    #plt.savefig(str(given_year), dpi = 200) #save figure\n",
    "    plt.savefig('log_' + str(given_year), dpi = 200) #save figure\n",
    "    plt.clf() #Clear the current plot"
   ]
  },
  {
   "cell_type": "markdown",
   "metadata": {},
   "source": [
    "**Conclusive Insights**\n",
    "\n",
    "* As the years have past, the Life Expectancy in the world has increased (Modern medicine?)\n",
    "* The GDP of most countries have also increased (Globalization?)"
   ]
  },
  {
   "cell_type": "markdown",
   "metadata": {},
   "source": [
    "### Part 4: Case Study "
   ]
  },
  {
   "cell_type": "markdown",
   "metadata": {},
   "source": [
    "#### Q: Whats the richest country in the world on a per-person basis?"
   ]
  },
  {
   "cell_type": "code",
   "execution_count": null,
   "metadata": {},
   "outputs": [],
   "source": [
    "# Load data \n",
    "data = pd.read_csv('data/world_countries.csv')\n",
    "\n",
    "#Preview data\n",
    "data.head()"
   ]
  },
  {
   "cell_type": "code",
   "execution_count": null,
   "metadata": {},
   "outputs": [],
   "source": [
    "country_mean = data.groupby(['country']).mean()"
   ]
  },
  {
   "cell_type": "code",
   "execution_count": null,
   "metadata": {},
   "outputs": [],
   "source": [
    "country_mean.head()"
   ]
  },
  {
   "cell_type": "code",
   "execution_count": null,
   "metadata": {},
   "outputs": [],
   "source": [
    "#Find 10 most highest GDP by countries\n",
    "\n",
    "top10 = country_mean.sort_values('gdpPerCapita', ascending = False).head(10)\n",
    "top10"
   ]
  },
  {
   "cell_type": "code",
   "execution_count": null,
   "metadata": {},
   "outputs": [],
   "source": [
    "# Visualize\n",
    "\n",
    "x = range(10)\n",
    "plt.figure(figsize=(16,12))\n",
    "plt.bar(x, top10.gdpPerCapita)\n",
    "plt.xticks(x, top10.index, rotation = 'vertical')\n",
    "plt.ylabel(\"GDP Per Capita\")\n",
    "plt.title('Top 10 Countries by GDP per Capita')\n",
    "plt.legend(['GDP Per Capita'])\n",
    "\n",
    "plt.show()"
   ]
  },
  {
   "cell_type": "markdown",
   "metadata": {},
   "source": [
    "#### Is Kuwait really the richest country in the world (on a per-person basis?)"
   ]
  },
  {
   "cell_type": "code",
   "execution_count": null,
   "metadata": {},
   "outputs": [],
   "source": [
    "kuwait = data[data.country == 'Kuwait']\n",
    "kuwait.head()"
   ]
  },
  {
   "cell_type": "code",
   "execution_count": null,
   "metadata": {},
   "outputs": [],
   "source": [
    "plt.figure(figsize=(16,12))\n",
    "plt.plot(kuwait.year, kuwait.gdpPerCapita)\n",
    "plt.title(\"GDP for Capita in Kuwait from 1952 to 2007\")\n",
    "plt.xlabel(\"year\")\n",
    "plt.ylabel('GDP PerCapita in USD')\n",
    "plt.show()"
   ]
  },
  {
   "cell_type": "markdown",
   "metadata": {},
   "source": [
    "#### Since GDP per capita is GDP per person - Lets analyze the GDP per capita, GDP and the Population of Kuwait"
   ]
  },
  {
   "cell_type": "code",
   "execution_count": null,
   "metadata": {},
   "outputs": [],
   "source": [
    "plt.figure(figsize=(16,12))\n",
    "\n",
    "plt.subplot(311)\n",
    "plt.title(\"GDP Per Capita\")\n",
    "plt.ylabel(\"GDP PER CAP\")\n",
    "plt.plot(kuwait.year, kuwait.gdpPerCapita)\n",
    "\n",
    "plt.subplot(312)\n",
    "plt.title(\"GDP in Billions\")\n",
    "plt.ylabel(\"GDP in BILLIONS\")\n",
    "plt.plot(kuwait.year, kuwait.gdpPerCapita * kuwait.population /10**9)\n",
    "\n",
    "plt.subplot(313)\n",
    "plt.title(\"Population in Millions\")\n",
    "plt.ylabel(\"Population in Millions\")\n",
    "plt.plot(kuwait.year, kuwait.population / 10**6)\n",
    "\n",
    "plt.tight_layout()\n",
    "plt.show()"
   ]
  },
  {
   "cell_type": "markdown",
   "metadata": {},
   "source": [
    "#### Relative growth of GDP in relation to their population"
   ]
  },
  {
   "cell_type": "code",
   "execution_count": null,
   "metadata": {},
   "outputs": [],
   "source": [
    "plt.figure(figsize=(16,12))\n",
    "plt.plot(kuwait.year, kuwait.population / kuwait.population.iloc[0] * 100)\n",
    "\n",
    "kuwait_gdp = kuwait.population * kuwait.gdpPerCapita\n",
    "plt.plot(kuwait.year, kuwait_gdp / kuwait_gdp.iloc[0] * 100)\n",
    "plt.plot(kuwait.year, kuwait.gdpPerCapita / kuwait.gdpPerCapita.iloc[0] * 100)\n",
    "\n",
    "plt.title('GDP and Population Growth in Kuwait ')\n",
    "plt.legend(['Population','GDP','GDP Per Capita'])\n",
    "\n",
    "plt.show()"
   ]
  },
  {
   "cell_type": "markdown",
   "metadata": {},
   "source": [
    "#### Lets compare this with the US"
   ]
  },
  {
   "cell_type": "code",
   "execution_count": null,
   "metadata": {},
   "outputs": [],
   "source": [
    "us = data[data.country == \"United States\"]"
   ]
  },
  {
   "cell_type": "code",
   "execution_count": null,
   "metadata": {},
   "outputs": [],
   "source": [
    "plt.figure(figsize=(16,12))\n",
    "plt.plot(us.year, us.gdpPerCapita)\n",
    "plt.plot(kuwait.year, kuwait.gdpPerCapita)\n",
    "plt.title(\"GDP for Capita in Kuwait and US from 1952 to 2007\")\n",
    "plt.xlabel(\"year\")\n",
    "plt.ylabel('GDP PerCapita in USD')\n",
    "plt.legend(['US','Kuwait'])\n",
    "plt.show()"
   ]
  },
  {
   "cell_type": "markdown",
   "metadata": {},
   "source": [
    "* So, is Kuwait really the richest country by per person basis? \n",
    "* A country like the US has a steadily growing GDP with 100 times more population than Kuwait, but is everyone rich? Are more people rich? I suppose?\n",
    "* A country like Kuwait has a large amount of wealth with a very small population, does that indicate that there is a higher chance to get a slice of the pie? \n",
    "* In the end, You decide\n",
    "\n",
    "* GDP Per Capita 2017 \n",
    "\n",
    "https://www.statista.com/statistics/270180/countries-with-the-largest-gross-domestic-product-gdp-per-capita/\n",
    "\n",
    "* GDP 2017 \n",
    "\n",
    "https://www.statista.com/statistics/268173/countries-with-the-largest-gross-domestic-product-gdp/"
   ]
  },
  {
   "cell_type": "markdown",
   "metadata": {},
   "source": [
    "** Thank you** "
   ]
  }
 ],
 "metadata": {
  "kernelspec": {
   "display_name": "Python 3",
   "language": "python",
   "name": "python3"
  },
  "language_info": {
   "codemirror_mode": {
    "name": "ipython",
    "version": 3
   },
   "file_extension": ".py",
   "mimetype": "text/x-python",
   "name": "python",
   "nbconvert_exporter": "python",
   "pygments_lexer": "ipython3",
   "version": "3.6.5"
  }
 },
 "nbformat": 4,
 "nbformat_minor": 2
}
